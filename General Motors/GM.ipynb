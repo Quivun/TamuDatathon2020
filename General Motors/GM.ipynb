{
 "cells": [
  {
   "cell_type": "code",
   "execution_count": null,
   "metadata": {},
   "outputs": [],
   "source": [
    "# Dependencies\n",
    "from bs4 import BeautifulSoup as bs\n",
    "import csv\n",
    "import pandas as pd\n",
    "import requests\n",
    "#import selenium as se\n",
    "import xml.etree.ElementTree as et\n",
    "\n",
    "import os\n",
    "import shlex, subprocess\n",
    "\n",
    "import sys\n",
    "# sys.arg[]\n",
    "\n",
    "# AWS US-EAST reccomended\n",
    "# https://github.com/josiahcoad/datathon-client"
   ]
  }
 ],
 "metadata": {
  "language_info": {
   "name": "python"
  },
  "orig_nbformat": 4
 },
 "nbformat": 4,
 "nbformat_minor": 2
}
