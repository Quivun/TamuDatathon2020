{
 "cells": [
  {
   "cell_type": "code",
   "execution_count": 1,
   "id": "19f69e47",
   "metadata": {},
   "outputs": [
    {
     "name": "stdout",
     "output_type": "stream",
     "text": [
      "Jupyter environment detected. Enabling Open3D WebVisualizer.\n",
      "[Open3D INFO] WebRTC GUI backend enabled.\n",
      "[Open3D INFO] WebRTCWindowSystem: HTTP handshake server disabled.\n",
      "Instantiating visualizer\n"
     ]
    }
   ],
   "source": [
    "# read in untransformed bolt\n",
    "# The untransformed location of the bolt is such that the center of the head is at 0,0,0\n",
    "# and it is pointing in the direction and centered on the positive x axis.\n",
    "# For example, rotating it around the z axis 90 degrees will make it appear pointing left\n",
    "from utility.pose_data import get_bolt_depthimage, show_depthimage, make_pointcloud, get_random_transform\n",
    "from utility.transformation_matrix import TransformationMatrix\n",
    "from utility.visualizer import visualizer as vis\n",
    "import numpy as np\n",
    "from scipy.spatial.transform import Rotation as R\n",
    "import csv\n",
    "import sys\n",
    "\n",
    "def rotation_between_vectors(u, v):\n",
    "    # u and v are both 3D unit vectors\n",
    "    axis = np.cross(u, v)\n",
    "    unit = axis / np.linalg.norm(axis)\n",
    "    angle = np.arccos(np.dot(u, v))\n",
    "    rotvec = unit * angle\n",
    "    return R.from_rotvec(rotvec)"
   ]
  },
  {
   "cell_type": "code",
   "execution_count": 2,
   "id": "f8b347e6",
   "metadata": {},
   "outputs": [],
   "source": [
    "import csv\n",
    "f = open('data.csv', 'w',encoding='UTF8')\n",
    "writer = csv.writer(f)\n",
    "\n",
    "np.set_printoptions(threshold=sys.maxsize)\n",
    "\n",
    "for x in range(0,1):\n",
    "    transform = get_random_transform()\n",
    "    transformed = get_bolt_depthimage(transform)\n",
    "    writer.writerow([transform,transformed])\n",
    "    \n",
    "f.close()\n",
    "    "
   ]
  },
  {
   "cell_type": "code",
   "execution_count": 4,
   "id": "215a281b",
   "metadata": {},
   "outputs": [],
   "source": []
  },
  {
   "cell_type": "code",
   "execution_count": null,
   "id": "635b648f",
   "metadata": {},
   "outputs": [],
   "source": []
  }
 ],
 "metadata": {
  "kernelspec": {
   "display_name": "Python 3 (ipykernel)",
   "language": "python",
   "name": "python3"
  },
  "language_info": {
   "codemirror_mode": {
    "name": "ipython",
    "version": 3
   },
   "file_extension": ".py",
   "mimetype": "text/x-python",
   "name": "python",
   "nbconvert_exporter": "python",
   "pygments_lexer": "ipython3",
   "version": "3.8.12"
  }
 },
 "nbformat": 4,
 "nbformat_minor": 5
}
